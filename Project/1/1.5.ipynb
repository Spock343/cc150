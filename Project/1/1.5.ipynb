{
 "cells": [
  {
   "cell_type": "raw",
   "metadata": {},
   "source": [
    "利用字符重复出现的次数，编写一个方法，实现基本的字符串压缩功能。比如，字符串”aabcccccaaa\"会鞭策\"a2b1c5a3\"。若“压缩”后的字符串没有变短，则返回原先的字符串。"
   ]
  },
  {
   "cell_type": "code",
   "execution_count": 3,
   "metadata": {},
   "outputs": [],
   "source": [
    "def compressBad(string):\n",
    "    origin = len(string)\n",
    "    start = end = 0\n",
    "    res = \"\"\n",
    "    while(end < origin):\n",
    "        if(string[start] == string[end]):\n",
    "            end += 1\n",
    "        else:\n",
    "            res += string[start]\n",
    "            res += str(end - start)\n",
    "            start = end\n",
    "    res += string[start]\n",
    "    res += str(end - start)\n",
    "    if(len(res) < origin):\n",
    "        return res\n",
    "    else:\n",
    "        return string"
   ]
  },
  {
   "cell_type": "code",
   "execution_count": 6,
   "metadata": {},
   "outputs": [
    {
     "name": "stdout",
     "output_type": "stream",
     "text": [
      "a2b1c5a3\n"
     ]
    }
   ],
   "source": [
    "string = \"aabcccccaaa\"\n",
    "res = compressBad(string)\n",
    "print(res)"
   ]
  },
  {
   "cell_type": "code",
   "execution_count": null,
   "metadata": {},
   "outputs": [],
   "source": []
  }
 ],
 "metadata": {
  "kernelspec": {
   "display_name": "Python 3",
   "language": "python",
   "name": "python3"
  },
  "language_info": {
   "codemirror_mode": {
    "name": "ipython",
    "version": 3
   },
   "file_extension": ".py",
   "mimetype": "text/x-python",
   "name": "python",
   "nbconvert_exporter": "python",
   "pygments_lexer": "ipython3",
   "version": "3.6.8"
  }
 },
 "nbformat": 4,
 "nbformat_minor": 2
}
