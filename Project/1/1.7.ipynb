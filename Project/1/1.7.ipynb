{
 "cells": [
  {
   "cell_type": "raw",
   "metadata": {},
   "source": [
    "编写一个算法，若MxN矩阵中的某个元素为0，则将其所在的行和列清零"
   ]
  },
  {
   "cell_type": "code",
   "execution_count": 3,
   "metadata": {},
   "outputs": [],
   "source": [
    "def setZeros(Matrix):\n",
    "    rows = len(Matrix)\n",
    "    cols = len(Matrix[0])\n",
    "    row_label = [False for _ in range(rows)]\n",
    "    col_label = [False for _ in range(cols)]\n",
    "    for i in range(rows):\n",
    "        for j in range(cols):\n",
    "            if(Matrix[i][j] == 0):\n",
    "                row_label[i] = True\n",
    "                col_label[j] = True\n",
    "    \n",
    "    for i in range(rows):\n",
    "        for j in range(cols):\n",
    "            if(row_label[i] or col_label[j]):\n",
    "                Matrix[i][j] = 0\n",
    "                \n",
    "    return Matrix"
   ]
  },
  {
   "cell_type": "code",
   "execution_count": 4,
   "metadata": {},
   "outputs": [],
   "source": [
    "import numpy as np"
   ]
  },
  {
   "cell_type": "code",
   "execution_count": 5,
   "metadata": {},
   "outputs": [
    {
     "name": "stdout",
     "output_type": "stream",
     "text": [
      "[[0.35059447 0.51739632 0.12068562 0.76607601 0.65408101]\n",
      " [0.81260914 0.16406393 0.63667167 0.39720145 0.60101946]\n",
      " [0.29239084 0.73704132 0.91517465 0.         0.47367747]\n",
      " [0.88430263 0.49118348 0.51537895 0.55026767 0.96101903]\n",
      " [0.         0.01009122 0.48488703 0.56136699 0.32638921]]\n",
      "[[0.         0.51739632 0.12068562 0.         0.65408101]\n",
      " [0.         0.16406393 0.63667167 0.         0.60101946]\n",
      " [0.         0.         0.         0.         0.        ]\n",
      " [0.         0.49118348 0.51537895 0.         0.96101903]\n",
      " [0.         0.         0.         0.         0.        ]]\n"
     ]
    }
   ],
   "source": [
    "M = np.random.random([5,5])\n",
    "M[4][0] = M[2][3] = 0\n",
    "print(M)\n",
    "res = setZeros(M)\n",
    "print(res)"
   ]
  },
  {
   "cell_type": "code",
   "execution_count": null,
   "metadata": {},
   "outputs": [],
   "source": []
  }
 ],
 "metadata": {
  "kernelspec": {
   "display_name": "Python 3",
   "language": "python",
   "name": "python3"
  },
  "language_info": {
   "codemirror_mode": {
    "name": "ipython",
    "version": 3
   },
   "file_extension": ".py",
   "mimetype": "text/x-python",
   "name": "python",
   "nbconvert_exporter": "python",
   "pygments_lexer": "ipython3",
   "version": "3.6.8"
  }
 },
 "nbformat": 4,
 "nbformat_minor": 2
}
