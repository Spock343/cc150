{
 "cells": [
  {
   "cell_type": "raw",
   "metadata": {},
   "source": [
    "给定一幅由NxN矩阵表示的图像，其中每个像素的大小为4字节，编写一个方法，将图像旋转90度。不占用额外内存空间能否做到"
   ]
  },
  {
   "cell_type": "code",
   "execution_count": 8,
   "metadata": {},
   "outputs": [],
   "source": [
    "def rotate(Matrix):\n",
    "    n = len(Matrix)\n",
    "    for i in range(n // 2):\n",
    "        for j in range((n + 1) // 2):\n",
    "            temp = Matrix[i][j]\n",
    "            Matrix[i][j] = Matrix[n-j-1][i]\n",
    "            Matrix[n-j-1][i] = Matrix[n-i-1][n-j-1]\n",
    "            Matrix[n-i-1][n-j-1] = Matrix[j][n-i-1]\n",
    "            Matrix[j][n-i-1] = temp\n",
    "    return Matrix"
   ]
  },
  {
   "cell_type": "code",
   "execution_count": 9,
   "metadata": {},
   "outputs": [],
   "source": [
    "import numpy as np"
   ]
  },
  {
   "cell_type": "code",
   "execution_count": 10,
   "metadata": {},
   "outputs": [
    {
     "name": "stdout",
     "output_type": "stream",
     "text": [
      "[[0.39357204 0.6419659  0.93364583 0.01690716]\n",
      " [0.15948077 0.22327587 0.32834905 0.33067363]\n",
      " [0.09052863 0.14961077 0.18260712 0.49254781]\n",
      " [0.72025876 0.88713025 0.63383126 0.25944669]]\n",
      "[[0.72025876 0.09052863 0.15948077 0.39357204]\n",
      " [0.88713025 0.14961077 0.22327587 0.6419659 ]\n",
      " [0.63383126 0.18260712 0.32834905 0.93364583]\n",
      " [0.25944669 0.49254781 0.33067363 0.01690716]]\n"
     ]
    }
   ],
   "source": [
    "M = np.random.random([4,4])\n",
    "print(M)\n",
    "res = rotate(M)\n",
    "print(res)"
   ]
  },
  {
   "cell_type": "code",
   "execution_count": null,
   "metadata": {},
   "outputs": [],
   "source": []
  }
 ],
 "metadata": {
  "kernelspec": {
   "display_name": "Python 3",
   "language": "python",
   "name": "python3"
  },
  "language_info": {
   "codemirror_mode": {
    "name": "ipython",
    "version": 3
   },
   "file_extension": ".py",
   "mimetype": "text/x-python",
   "name": "python",
   "nbconvert_exporter": "python",
   "pygments_lexer": "ipython3",
   "version": "3.6.8"
  }
 },
 "nbformat": 4,
 "nbformat_minor": 2
}
