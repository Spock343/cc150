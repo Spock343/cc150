{
 "cells": [
  {
   "cell_type": "raw",
   "metadata": {},
   "source": [
    "实现一个算法，删除单向链表中间的某个结点，只能访问该结点"
   ]
  },
  {
   "cell_type": "code",
   "execution_count": 1,
   "metadata": {},
   "outputs": [],
   "source": [
    "from LinkedList import *"
   ]
  },
  {
   "cell_type": "code",
   "execution_count": 8,
   "metadata": {},
   "outputs": [],
   "source": [
    "def deleteNode(node):\n",
    "    if(node == None or node.Next == None):\n",
    "        print(\"failed\")\n",
    "    else:\n",
    "        node.data = node.Next.data\n",
    "        node.Next = node.Next.Next"
   ]
  },
  {
   "cell_type": "code",
   "execution_count": 9,
   "metadata": {},
   "outputs": [
    {
     "name": "stdout",
     "output_type": "stream",
     "text": [
      "0 1 2 3 4 5 6 7 8 9 \n",
      "0 1 2 3 5 6 7 8 9 "
     ]
    }
   ],
   "source": [
    "L = [i for i in range(10)]\n",
    "head = getLinkedList(L)\n",
    "temp = head\n",
    "for i in range(4):\n",
    "    temp = temp.Next\n",
    "traverseList(head)\n",
    "print()\n",
    "deleteNode(temp)\n",
    "traverseList(head)"
   ]
  },
  {
   "cell_type": "code",
   "execution_count": null,
   "metadata": {},
   "outputs": [],
   "source": []
  }
 ],
 "metadata": {
  "kernelspec": {
   "display_name": "Python 3",
   "language": "python",
   "name": "python3"
  },
  "language_info": {
   "codemirror_mode": {
    "name": "ipython",
    "version": 3
   },
   "file_extension": ".py",
   "mimetype": "text/x-python",
   "name": "python",
   "nbconvert_exporter": "python",
   "pygments_lexer": "ipython3",
   "version": "3.6.8"
  }
 },
 "nbformat": 4,
 "nbformat_minor": 2
}
