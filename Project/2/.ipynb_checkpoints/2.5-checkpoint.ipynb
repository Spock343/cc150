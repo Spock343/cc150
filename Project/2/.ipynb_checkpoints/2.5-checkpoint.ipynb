{
 "cells": [
  {
   "cell_type": "raw",
   "metadata": {},
   "source": [
    "给定两个用链表表示的整数，每个结点包含一个数位。这些数位是反向存放的，也就是个位排在链表首部。编写函数对这两个整数求和，并用链表形式返回结果。\n",
    "进阶\n",
    "假设这些数位是正向存放的"
   ]
  },
  {
   "cell_type": "code",
   "execution_count": 1,
   "metadata": {},
   "outputs": [],
   "source": [
    "from LinkedList import *"
   ]
  },
  {
   "cell_type": "code",
   "execution_count": 11,
   "metadata": {},
   "outputs": [],
   "source": [
    "def addLists(L1, L2, carry = 0, NewList = None):\n",
    "    temp = 0\n",
    "    if(L1 != None and L2 != None):\n",
    "        temp = L1.data + L2.data + carry\n",
    "    elif(L1 != None):\n",
    "        temp = L1.data + carry\n",
    "    elif(L2 != None):\n",
    "        temp = L2.data + carry\n",
    "    else:\n",
    "        if(carry > 0):\n",
    "            if(NewList != None):\n",
    "                NewList.Next = Node(carry)\n",
    "            else:\n",
    "                NewList = Node(carry)\n",
    "        return NewList\n",
    "    ncarry = temp // 10\n",
    "    tmp = temp % 10\n",
    "    if(NewList != None):\n",
    "        NewList.Next = Node(tmp)\n",
    "        addLists(L1.Next, L2.Next, ncarry, NewList.Next)\n",
    "    else:\n",
    "        NewList = Node(tmp)\n",
    "        addLists(L1.Next, L2.Next, ncarry, NewList)\n",
    "    return NewList"
   ]
  },
  {
   "cell_type": "code",
   "execution_count": 16,
   "metadata": {},
   "outputs": [],
   "source": [
    "def addListsHelper(L1, L2):\n",
    "    if(L1 == None):\n",
    "        return None, 0\n",
    "    NextNode, carry = addListsHelper(L1.Next, L2.Next)\n",
    "    temp = L1.data + L2.data + carry\n",
    "    ncarry = temp // 10\n",
    "    tmp = temp % 10\n",
    "    NewNode = Node(tmp)\n",
    "    NewNode.Next = NextNode\n",
    "    return NewNode, ncarry\n",
    "\n",
    "def addLists2(L1, L2):\n",
    "    Len1 = 0\n",
    "    Len2 = 0\n",
    "    temp = L1\n",
    "    while(temp != None):\n",
    "        Len1 += 1\n",
    "        temp = temp.Next\n",
    "    temp = L2\n",
    "    while(temp != None):\n",
    "        Len2 += 1\n",
    "        temp = temp.Next\n",
    "    if(Len1 < Len2):\n",
    "        tempNode = Node(0)\n",
    "        tempHead = tempNode\n",
    "        for i in range(Len1, Len2 - 1):\n",
    "            tempNode.Next = Node(0)\n",
    "            tempNode = tempNode.Next\n",
    "        tempNode.Next = L1\n",
    "        L1 = tempHead\n",
    "    elif(Len2 < Len1):\n",
    "        tempNode = Node(0)\n",
    "        tempHead = tempNode\n",
    "        for i in range(Len2, Len1 - 1):\n",
    "            tempNode.Next = Node(0)\n",
    "            tempNode = tempNode.Next\n",
    "        tempNode.Next = L2\n",
    "        L2 = tempHead\n",
    "    NewList, carry = addListsHelper(L1, L2)\n",
    "    if(carry > 0):\n",
    "        NewHead = Node(carry)\n",
    "        NewHead.Next = NewList\n",
    "        NewList = NewHead\n",
    "    return NewList"
   ]
  },
  {
   "cell_type": "code",
   "execution_count": 12,
   "metadata": {},
   "outputs": [
    {
     "name": "stdout",
     "output_type": "stream",
     "text": [
      "6 1 7 \n",
      "2 9 5 "
     ]
    }
   ],
   "source": [
    "L1 = [6, 1, 7]\n",
    "L2 = [2, 9, 5]\n",
    "head1 = getLinkedList(L1)\n",
    "head2 = getLinkedList(L2)\n",
    "traverseList(head1)\n",
    "print()\n",
    "traverseList(head2)"
   ]
  },
  {
   "cell_type": "code",
   "execution_count": 13,
   "metadata": {},
   "outputs": [
    {
     "name": "stdout",
     "output_type": "stream",
     "text": [
      "8 0 3 1 "
     ]
    }
   ],
   "source": [
    "res1 = addLists(head1, head2)\n",
    "traverseList(res1)"
   ]
  },
  {
   "cell_type": "code",
   "execution_count": 20,
   "metadata": {},
   "outputs": [
    {
     "name": "stdout",
     "output_type": "stream",
     "text": [
      "9 2 3 4 \n",
      "9 6 7 "
     ]
    }
   ],
   "source": [
    "L1 = [9, 2, 3, 4]\n",
    "L2 = [9, 6, 7]\n",
    "head1 = getLinkedList(L1)\n",
    "head2 = getLinkedList(L2)\n",
    "traverseList(head1)\n",
    "print()\n",
    "traverseList(head2)"
   ]
  },
  {
   "cell_type": "code",
   "execution_count": 21,
   "metadata": {},
   "outputs": [
    {
     "name": "stdout",
     "output_type": "stream",
     "text": [
      "1 0 2 0 1 "
     ]
    }
   ],
   "source": [
    "res2 = addLists2(head1, head2)\n",
    "traverseList(res2)"
   ]
  },
  {
   "cell_type": "code",
   "execution_count": null,
   "metadata": {},
   "outputs": [],
   "source": []
  }
 ],
 "metadata": {
  "kernelspec": {
   "display_name": "Python 3",
   "language": "python",
   "name": "python3"
  },
  "language_info": {
   "codemirror_mode": {
    "name": "ipython",
    "version": 3
   },
   "file_extension": ".py",
   "mimetype": "text/x-python",
   "name": "python",
   "nbconvert_exporter": "python",
   "pygments_lexer": "ipython3",
   "version": "3.6.8"
  }
 },
 "nbformat": 4,
 "nbformat_minor": 2
}
