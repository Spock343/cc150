{
 "cells": [
  {
   "cell_type": "raw",
   "metadata": {},
   "source": [
    "编写代码、以给定值x为基准将链表分割成两部分，所有小于x的结点排在大于或等于x的结点之前"
   ]
  },
  {
   "cell_type": "code",
   "execution_count": 2,
   "metadata": {},
   "outputs": [],
   "source": [
    "from LinkedList import *"
   ]
  },
  {
   "cell_type": "code",
   "execution_count": 1,
   "metadata": {},
   "outputs": [],
   "source": [
    "def partition(head, x):\n",
    "    temphead1 = Node(0)\n",
    "    temphead2 = Node(0)\n",
    "    temp1 = temphead1\n",
    "    temp2 = temphead2\n",
    "    temp = head\n",
    "    while(temp != None):\n",
    "        if(temp.data < x):\n",
    "            temp1.Next = temp\n",
    "            temp1 = temp1.Next\n",
    "        else:\n",
    "            temp2.Next = temp\n",
    "            temp2 = temp2.Next\n",
    "        temp = temp.Next\n",
    "    temp1.Next = temphead2.Next\n",
    "    return temphead1.Next"
   ]
  },
  {
   "cell_type": "code",
   "execution_count": 3,
   "metadata": {},
   "outputs": [
    {
     "name": "stdout",
     "output_type": "stream",
     "text": [
      "7 2 5 3 8 4 9 6 "
     ]
    }
   ],
   "source": [
    "L = [7, 2, 5, 3, 8, 4, 9, 6]\n",
    "head = getLinkedList(L)\n",
    "traverseList(head)"
   ]
  },
  {
   "cell_type": "code",
   "execution_count": 4,
   "metadata": {},
   "outputs": [
    {
     "name": "stdout",
     "output_type": "stream",
     "text": [
      "2 5 3 4 7 8 9 6 "
     ]
    }
   ],
   "source": [
    "Newhead = partition(head, 6)\n",
    "traverseList(Newhead)"
   ]
  },
  {
   "cell_type": "code",
   "execution_count": null,
   "metadata": {},
   "outputs": [],
   "source": []
  }
 ],
 "metadata": {
  "kernelspec": {
   "display_name": "Python 3",
   "language": "python",
   "name": "python3"
  },
  "language_info": {
   "codemirror_mode": {
    "name": "ipython",
    "version": 3
   },
   "file_extension": ".py",
   "mimetype": "text/x-python",
   "name": "python",
   "nbconvert_exporter": "python",
   "pygments_lexer": "ipython3",
   "version": "3.6.8"
  }
 },
 "nbformat": 4,
 "nbformat_minor": 2
}
