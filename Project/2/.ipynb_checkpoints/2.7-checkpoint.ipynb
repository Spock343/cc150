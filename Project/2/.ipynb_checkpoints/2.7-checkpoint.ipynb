{
 "cells": [
  {
   "cell_type": "raw",
   "metadata": {},
   "source": [
    "编写一个函数，检查链表是否为回文"
   ]
  },
  {
   "cell_type": "code",
   "execution_count": 1,
   "metadata": {},
   "outputs": [],
   "source": [
    "from LinkedList import *"
   ]
  },
  {
   "cell_type": "code",
   "execution_count": 7,
   "metadata": {},
   "outputs": [],
   "source": [
    "def isPalindromeRecurse(head):\n",
    "    Stack = []\n",
    "    temp = head\n",
    "    while(temp != None):\n",
    "        Stack.append(temp.data)\n",
    "        temp = temp.Next\n",
    "    temp = head\n",
    "    Last = (len(Stack) + 1) // 2\n",
    "    for i in range(len(Stack) - 1, Last - 1, -1):\n",
    "        if(temp.data != Stack[i]):\n",
    "            return False\n",
    "        temp = temp.Next\n",
    "    return True"
   ]
  },
  {
   "cell_type": "code",
   "execution_count": 5,
   "metadata": {},
   "outputs": [
    {
     "name": "stdout",
     "output_type": "stream",
     "text": [
      "1 2 3 4 3 2 1 \n",
      "1 2 3 4 2 1 "
     ]
    }
   ],
   "source": [
    "L1 = [1, 2, 3, 4, 3, 2, 1]\n",
    "L2 = [1, 2, 3, 4, 2, 1]\n",
    "head1 = getLinkedList(L1)\n",
    "head2 = getLinkedList(L2)\n",
    "traverseList(head1)\n",
    "print()\n",
    "traverseList(head2)"
   ]
  },
  {
   "cell_type": "code",
   "execution_count": 8,
   "metadata": {},
   "outputs": [
    {
     "name": "stdout",
     "output_type": "stream",
     "text": [
      "True\n",
      "False\n"
     ]
    }
   ],
   "source": [
    "print(isPalindromeRecurse(head1))\n",
    "print(isPalindromeRecurse(head2))"
   ]
  },
  {
   "cell_type": "code",
   "execution_count": null,
   "metadata": {},
   "outputs": [],
   "source": []
  }
 ],
 "metadata": {
  "kernelspec": {
   "display_name": "Python 3",
   "language": "python",
   "name": "python3"
  },
  "language_info": {
   "codemirror_mode": {
    "name": "ipython",
    "version": 3
   },
   "file_extension": ".py",
   "mimetype": "text/x-python",
   "name": "python",
   "nbconvert_exporter": "python",
   "pygments_lexer": "ipython3",
   "version": "3.6.8"
  }
 },
 "nbformat": 4,
 "nbformat_minor": 2
}
