{
 "cells": [
  {
   "cell_type": "raw",
   "metadata": {},
   "source": [
    "给定一个有环链表，实现一个算法返回环路的开头结点"
   ]
  },
  {
   "cell_type": "code",
   "execution_count": 23,
   "metadata": {},
   "outputs": [],
   "source": [
    "from LinkedList import *"
   ]
  },
  {
   "cell_type": "raw",
   "metadata": {},
   "source": [
    "先找是否有环，用快慢指针找\n",
    "如果有环，设快慢指针在点k停下\n",
    "设环前面部分的链表长度为s\n",
    "环的长度为r\n",
    "点k距离环开头d1，从点k回到开头距离为d2，则r = d1 + d2\n",
    "容易知道慢指针一共走了s + d1，快指针走了s + d1 + n*r(n为正常数)\n",
    "又显然有2*(s + d1) = s + d1 + n*r\n",
    "则d1 = k*r - s\n",
    "则只需再走链表长度的距离即可到达环的开头"
   ]
  },
  {
   "cell_type": "code",
   "execution_count": 24,
   "metadata": {},
   "outputs": [],
   "source": [
    "def FindBeginning(head):\n",
    "    if(head == None or head.Next == None):\n",
    "        return None\n",
    "    Mark = False\n",
    "    FastNode = head.Next.Next\n",
    "    SlowNode = head.Next\n",
    "    while(FastNode != None):\n",
    "        if(FastNode == SlowNode):\n",
    "            FastNode = head\n",
    "            Mark = True\n",
    "            break\n",
    "        if(FastNode.Next != None and FastNode.Next.Next != None):\n",
    "            FastNode = FastNode.Next.Next\n",
    "            SlowNode = SlowNode.Next\n",
    "    if(Mark):\n",
    "        while(FastNode != SlowNode):\n",
    "            FastNode = FastNode.Next\n",
    "            SlowNode = SlowNode.Next\n",
    "        return FastNode\n",
    "    return None"
   ]
  },
  {
   "cell_type": "code",
   "execution_count": 25,
   "metadata": {},
   "outputs": [
    {
     "name": "stdout",
     "output_type": "stream",
     "text": [
      "1 2 3 4 5 6 7 8 \n",
      "3 4 5 6 7 8 \n",
      "4 5 6 7 8 \n",
      "8 4 5 6 7 "
     ]
    }
   ],
   "source": [
    "L1 = [1, 2, 3]\n",
    "L2 = [4, 5, 6, 7, 8]\n",
    "head1 = getLinkedList(L1)\n",
    "head2 = getLinkedList(L2)\n",
    "tail1 = getTail(head1)\n",
    "tail2 = getTail(head2)\n",
    "tail1.Next = head2\n",
    "tail2.Next = head2\n",
    "traverseList2(head1)\n",
    "print()\n",
    "traverseList2(tail1)\n",
    "print()\n",
    "traverseList2(head2)\n",
    "print()\n",
    "traverseList2(tail2)"
   ]
  },
  {
   "cell_type": "code",
   "execution_count": 26,
   "metadata": {},
   "outputs": [
    {
     "name": "stdout",
     "output_type": "stream",
     "text": [
      "4\n"
     ]
    }
   ],
   "source": [
    "res = FindBeginning(head1)\n",
    "print(res.data)"
   ]
  },
  {
   "cell_type": "code",
   "execution_count": null,
   "metadata": {},
   "outputs": [],
   "source": []
  }
 ],
 "metadata": {
  "kernelspec": {
   "display_name": "Python 3",
   "language": "python",
   "name": "python3"
  },
  "language_info": {
   "codemirror_mode": {
    "name": "ipython",
    "version": 3
   },
   "file_extension": ".py",
   "mimetype": "text/x-python",
   "name": "python",
   "nbconvert_exporter": "python",
   "pygments_lexer": "ipython3",
   "version": "3.6.8"
  }
 },
 "nbformat": 4,
 "nbformat_minor": 2
}
