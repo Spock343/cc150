{
 "cells": [
  {
   "cell_type": "raw",
   "metadata": {},
   "source": [
    "编写代码，移除未排序链表中的重复节点\n",
    "不得使用缓冲区"
   ]
  },
  {
   "cell_type": "code",
   "execution_count": 1,
   "metadata": {},
   "outputs": [],
   "source": [
    "from LinkedList import *"
   ]
  },
  {
   "cell_type": "code",
   "execution_count": 2,
   "metadata": {},
   "outputs": [],
   "source": [
    "def deleteDups(node):\n",
    "    Set = set()\n",
    "    Set.add(node.data)\n",
    "    temp = node\n",
    "    while(temp.Next != None):\n",
    "        if(temp.Next.data in Set):\n",
    "            temp.Next = temp.Next.Next\n",
    "        else:\n",
    "            Set.add(temp.Next.data)\n",
    "            temp = temp.Next\n",
    "    return node"
   ]
  },
  {
   "cell_type": "code",
   "execution_count": 3,
   "metadata": {},
   "outputs": [
    {
     "name": "stdout",
     "output_type": "stream",
     "text": [
      "5 7 4 9 5 3 4 8 8 "
     ]
    }
   ],
   "source": [
    "L = [5, 7, 4, 9, 5, 3, 4, 8, 8]\n",
    "head = getLinkedList(L)\n",
    "traverseList(head)"
   ]
  },
  {
   "cell_type": "code",
   "execution_count": 4,
   "metadata": {},
   "outputs": [
    {
     "name": "stdout",
     "output_type": "stream",
     "text": [
      "5 7 4 9 3 8 "
     ]
    }
   ],
   "source": [
    "res = deleteDups(head)\n",
    "traverseList(res)"
   ]
  },
  {
   "cell_type": "code",
   "execution_count": null,
   "metadata": {},
   "outputs": [],
   "source": []
  }
 ],
 "metadata": {
  "kernelspec": {
   "display_name": "Python 3",
   "language": "python",
   "name": "python3"
  },
  "language_info": {
   "codemirror_mode": {
    "name": "ipython",
    "version": 3
   },
   "file_extension": ".py",
   "mimetype": "text/x-python",
   "name": "python",
   "nbconvert_exporter": "python",
   "pygments_lexer": "ipython3",
   "version": "3.6.8"
  }
 },
 "nbformat": 4,
 "nbformat_minor": 2
}
