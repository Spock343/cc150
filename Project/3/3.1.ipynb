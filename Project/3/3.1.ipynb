{
 "cells": [
  {
   "cell_type": "raw",
   "metadata": {},
   "source": [
    "描述如何只用一个数组来实现三个栈\n",
    "这里只实现固定分割"
   ]
  },
  {
   "cell_type": "code",
   "execution_count": 9,
   "metadata": {},
   "outputs": [],
   "source": [
    "class Stack:\n",
    "    def __init__(self, size):\n",
    "        self.size = size\n",
    "        self.buffer = [0] * (3 * size)\n",
    "        self.pointer = [-1, -1, -1]\n",
    "        \n",
    "    def push(self, index, value):\n",
    "        if(self.pointer[index] + 1 >= self.size):\n",
    "            print(\"Out of array\")\n",
    "            return\n",
    "        self.pointer[index] += 1\n",
    "        self.buffer[self.size * index + self.pointer[index]] = value\n",
    "        \n",
    "    def pop(self, index):\n",
    "        if(self.pointer[index] == -1):\n",
    "            print(\"Stack is empty\")\n",
    "            return \n",
    "        value = self.buffer[self.size * index + self.pointer[index]]\n",
    "        self.pointer[index] -= 1\n",
    "        return value\n",
    "    \n",
    "    def peek(self, index):\n",
    "        if(self.pointer[index] == -1):\n",
    "            print(\"Stack is empty\")\n",
    "            return \n",
    "        value = self.buffer[self.size * index + self.pointer[index]]\n",
    "        return value\n",
    "    \n",
    "    def isEmpty(self, index):\n",
    "        return self.pointer[index] == -1"
   ]
  },
  {
   "cell_type": "code",
   "execution_count": 10,
   "metadata": {},
   "outputs": [
    {
     "name": "stdout",
     "output_type": "stream",
     "text": [
      "7   2   9\n",
      "False   True   True\n"
     ]
    }
   ],
   "source": [
    "stack = Stack(10)\n",
    "stack.push(0, 5)\n",
    "stack.push(0, 4)\n",
    "stack.push(1, 7)\n",
    "stack.push(2, 9)\n",
    "stack.push(2, 2)\n",
    "stack.push(0, 3)\n",
    "n1 = stack.pop(1)\n",
    "n2 = stack.pop(2)\n",
    "n3 = stack.pop(2)\n",
    "m1 = stack.isEmpty(0)\n",
    "m2 = stack.isEmpty(1)\n",
    "m3 = stack.isEmpty(2)\n",
    "print(n1, \" \", n2, \" \",  n3)\n",
    "print(m1, \" \", m2, \" \",  m3)"
   ]
  },
  {
   "cell_type": "code",
   "execution_count": null,
   "metadata": {},
   "outputs": [],
   "source": []
  }
 ],
 "metadata": {
  "kernelspec": {
   "display_name": "Python 3",
   "language": "python",
   "name": "python3"
  },
  "language_info": {
   "codemirror_mode": {
    "name": "ipython",
    "version": 3
   },
   "file_extension": ".py",
   "mimetype": "text/x-python",
   "name": "python",
   "nbconvert_exporter": "python",
   "pygments_lexer": "ipython3",
   "version": "3.6.8"
  }
 },
 "nbformat": 4,
 "nbformat_minor": 2
}
