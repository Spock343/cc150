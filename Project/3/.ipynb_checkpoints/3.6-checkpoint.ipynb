{
 "cells": [
  {
   "cell_type": "raw",
   "metadata": {},
   "source": [
    "编写程序，按升序对栈进行排序(即最大元素位于栈顶)。最多只能使用一个额外的栈存放临时数据，但不得将元素复制到别的数据结构中(如数组)。该栈支持如下操作: push、pop、peek和isEmpty。(有一个临时变量)"
   ]
  },
  {
   "cell_type": "code",
   "execution_count": 2,
   "metadata": {},
   "outputs": [],
   "source": [
    "from Stack import *"
   ]
  },
  {
   "cell_type": "code",
   "execution_count": 3,
   "metadata": {},
   "outputs": [],
   "source": [
    "def sort(stack):\n",
    "    helper = Stack2()\n",
    "    while(not stack.isEmpty()):\n",
    "        tmp = stack.pop()\n",
    "        while(not helper.isEmpty() and helper.peek() > tmp):\n",
    "            stack.push(helper.pop())\n",
    "        helper.push(tmp)\n",
    "    return helper"
   ]
  },
  {
   "cell_type": "code",
   "execution_count": 4,
   "metadata": {},
   "outputs": [
    {
     "name": "stdout",
     "output_type": "stream",
     "text": [
      "9\n",
      "8\n",
      "7\n",
      "5\n",
      "3\n",
      "2\n",
      "1\n"
     ]
    }
   ],
   "source": [
    "s = Stack2()\n",
    "s.push(5)\n",
    "s.push(9)\n",
    "s.push(2)\n",
    "s.push(1)\n",
    "s.push(7)\n",
    "s.push(3)\n",
    "s.push(8)\n",
    "r = sort(s)\n",
    "while(not r.isEmpty()):\n",
    "    print(r.pop())"
   ]
  },
  {
   "cell_type": "code",
   "execution_count": null,
   "metadata": {},
   "outputs": [],
   "source": []
  }
 ],
 "metadata": {
  "kernelspec": {
   "display_name": "Python 3",
   "language": "python",
   "name": "python3"
  },
  "language_info": {
   "codemirror_mode": {
    "name": "ipython",
    "version": 3
   },
   "file_extension": ".py",
   "mimetype": "text/x-python",
   "name": "python",
   "nbconvert_exporter": "python",
   "pygments_lexer": "ipython3",
   "version": "3.6.8"
  }
 },
 "nbformat": 4,
 "nbformat_minor": 2
}
