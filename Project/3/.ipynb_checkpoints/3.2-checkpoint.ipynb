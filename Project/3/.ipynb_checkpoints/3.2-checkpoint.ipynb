{
 "cells": [
  {
   "cell_type": "raw",
   "metadata": {},
   "source": [
    "请设计一个栈，除了pop与push方法，还支持min方法，可返回栈元素中的最小值。push、pop和min三个方法的时间复杂度必须为O(1)"
   ]
  },
  {
   "cell_type": "code",
   "execution_count": 3,
   "metadata": {},
   "outputs": [],
   "source": [
    "# 加一个单调栈\n",
    "class StackWithMin:\n",
    "    def __init__(self, size):\n",
    "        self.size = size\n",
    "        self.pointer = -1\n",
    "        self.buffer = [0] * size\n",
    "        self.min = [0] * size\n",
    "    \n",
    "    def push(self, value):\n",
    "        if(self.pointer + 1 >= self.size):\n",
    "            print(\"Out of array\")\n",
    "            return\n",
    "        self.pointer += 1\n",
    "        self.buffer[self.pointer] = value\n",
    "        if(self.pointer == 0 or value < self.min[self.pointer - 1]):\n",
    "            self.min[self.pointer] = value\n",
    "        else:\n",
    "            self.min[self.pointer] = self.min[self.pointer - 1]\n",
    "        \n",
    "    def pop(self):\n",
    "        if(self.pointer == -1):\n",
    "            print(\"Stack is empty\")\n",
    "            return\n",
    "        value = self.buffer[self.pointer]\n",
    "        self.pointer -= 1\n",
    "        return value\n",
    "    \n",
    "    def getMin(self):\n",
    "        return self.min[self.pointer]\n",
    "    \n",
    "    # 省略peek，isempty"
   ]
  },
  {
   "cell_type": "code",
   "execution_count": 4,
   "metadata": {},
   "outputs": [
    {
     "name": "stdout",
     "output_type": "stream",
     "text": [
      "4\n",
      "6\n",
      "4\n",
      "4\n",
      "7\n",
      "9\n",
      "7\n",
      "7\n"
     ]
    }
   ],
   "source": [
    "stack = StackWithMin(10)\n",
    "stack.push(7)\n",
    "stack.push(9)\n",
    "stack.push(4)\n",
    "stack.push(6)\n",
    "print(stack.getMin())\n",
    "print(stack.pop())\n",
    "print(stack.getMin())\n",
    "print(stack.pop())\n",
    "print(stack.getMin())\n",
    "print(stack.pop())\n",
    "print(stack.getMin())\n",
    "print(stack.pop())"
   ]
  },
  {
   "cell_type": "code",
   "execution_count": null,
   "metadata": {},
   "outputs": [],
   "source": []
  }
 ],
 "metadata": {
  "kernelspec": {
   "display_name": "Python 3",
   "language": "python",
   "name": "python3"
  },
  "language_info": {
   "codemirror_mode": {
    "name": "ipython",
    "version": 3
   },
   "file_extension": ".py",
   "mimetype": "text/x-python",
   "name": "python",
   "nbconvert_exporter": "python",
   "pygments_lexer": "ipython3",
   "version": "3.6.8"
  }
 },
 "nbformat": 4,
 "nbformat_minor": 2
}
