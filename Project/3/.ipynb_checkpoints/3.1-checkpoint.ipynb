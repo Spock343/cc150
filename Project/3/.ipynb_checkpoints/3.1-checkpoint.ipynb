{
 "cells": [
  {
   "cell_type": "raw",
   "metadata": {},
   "source": [
    "描述如何只用一个数组来实现三个栈\n",
    "这里只实现固定分割"
   ]
  },
  {
   "cell_type": "code",
   "execution_count": null,
   "metadata": {},
   "outputs": [],
   "source": [
    "class Stack:\n",
    "    def __init__(self, size):\n",
    "        self.size = size\n",
    "        self.buffer = [0] * (3 * size)\n",
    "        self.pointer = [-1, -1, -1]\n",
    "        \n",
    "    def push(index, value):\n",
    "        if(self.pointer[index] + 1 >= self.size):\n",
    "            print(\"Out of array\")\n",
    "            return\n",
    "        self.pointer[index] += 1\n",
    "        buffer[self.size * index + self.pointer[index]] = value\n",
    "        \n",
    "    def pop(index):\n",
    "        if(self.pointer[index] == -1):\n",
    "            print(\"Stack is empty\")\n",
    "            return \n",
    "        value = buffer[self.size * index + self.pointer[index]]\n",
    "        self.pointer[index] -= 1\n",
    "        return value\n",
    "    \n",
    "    def peek(index):\n",
    "        if(self.pointer[index] == -1):\n",
    "            print(\"Stack is empty\")\n",
    "            return \n",
    "        value = buffer[self.size * index + self.pointer[index]]\n",
    "        return value\n",
    "    \n",
    "    def isEmpty(index):\n",
    "        return self.pointer[index] == -1"
   ]
  },
  {
   "cell_type": "code",
   "execution_count": null,
   "metadata": {},
   "outputs": [],
   "source": []
  }
 ],
 "metadata": {
  "kernelspec": {
   "display_name": "Python 3",
   "language": "python",
   "name": "python3"
  },
  "language_info": {
   "codemirror_mode": {
    "name": "ipython",
    "version": 3
   },
   "file_extension": ".py",
   "mimetype": "text/x-python",
   "name": "python",
   "nbconvert_exporter": "python",
   "pygments_lexer": "ipython3",
   "version": "3.6.8"
  }
 },
 "nbformat": 4,
 "nbformat_minor": 2
}
