{
 "cells": [
  {
   "cell_type": "raw",
   "metadata": {},
   "source": [
    "有家动物收容所只收容狗和猫，且严格遵守“先进先出”的原则。在收养该收容所的动物时，收养人只能收养所有动物中“最老”(根据进入收容所的时间长短)的动物，或者，可以挑选猫或狗(同时必须收养此类动物中\"最老\"的)。换言之，收养人不能自由挑选想要收养的对象。请创建适用于这个系统的数据结构，实现各种操作方法，比如enqueue、dequeueAny、dequeueDog和dequeueCat等。"
   ]
  },
  {
   "cell_type": "code",
   "execution_count": 2,
   "metadata": {},
   "outputs": [],
   "source": [
    "class Animal:\n",
    "    def __init__(self, name, order):\n",
    "        self.name = name\n",
    "        self.order = order\n",
    "    \n",
    "    def getOrder(self):\n",
    "        return self.order\n",
    "    \n",
    "    def isOlderThan(self, a):\n",
    "        return self.order < a.getOrder()\n",
    "    \n",
    "class AnimalQueue:\n",
    "    def __init__(self):\n",
    "        self.dogs = []\n",
    "        self.cats = []\n",
    "        self.ord = 0\n",
    "        \n",
    "    # a == 1为dog，a == 0为cat\n",
    "    def enqueue(self, a, name):\n",
    "        if(a == 1):\n",
    "            self.dogs.append(Animal(name, self.ord))\n",
    "        else:\n",
    "            self.cats.append(Animal(name, self.ord))\n",
    "        self.ord += 1\n",
    "    \n",
    "    def dequeueAny(self):\n",
    "        if(len(self.dogs) == 0 and len(self.dogs) == 0):\n",
    "            print(\"AnimalQueue is Empty\")\n",
    "            return\n",
    "        \n",
    "        if(len(self.dogs) == 0):\n",
    "            res = self.cats[0]\n",
    "            del(self.cats[0])\n",
    "            return res\n",
    "        \n",
    "        if(len(self.cats) == 0):\n",
    "            res = self.dogs[0]\n",
    "            del(self.dogs[0])\n",
    "            return res\n",
    "        \n",
    "        r1 = self.dogs[0]\n",
    "        r2 = self.cats[0]\n",
    "        if(r1.isOlderThan(r2)):\n",
    "            del(self.dogs[0])\n",
    "            return r1\n",
    "        del(self.cats[0])\n",
    "        return r2\n",
    "    \n",
    "    def dequeueDog(self):\n",
    "        if(len(self.dogs) == 0):\n",
    "            print(\"Dogs is Empty\")\n",
    "            return\n",
    "        res = self.dogs[0]\n",
    "        del(self.dogs[0])\n",
    "        return res\n",
    "    \n",
    "    def dequeueCat(self):\n",
    "        if(len(self.cats) == 0):\n",
    "            print(\"Cats is Empty\")\n",
    "            return\n",
    "        res = self.cats[0]\n",
    "        del(self.cats[0])\n",
    "        return res"
   ]
  },
  {
   "cell_type": "code",
   "execution_count": 10,
   "metadata": {},
   "outputs": [
    {
     "name": "stdout",
     "output_type": "stream",
     "text": [
      "aaa   0\n",
      "bbb   1\n",
      "ccc   2\n",
      "ddd   3\n",
      "eee   4\n",
      "fff   5\n",
      "ggg   6\n",
      "AnimalQueue is Empty\n"
     ]
    }
   ],
   "source": [
    "aq = AnimalQueue()\n",
    "aq.enqueue(1, \"aaa\")\n",
    "aq.enqueue(0, \"bbb\")\n",
    "aq.enqueue(0, \"ccc\")\n",
    "aq.enqueue(1, \"ddd\")\n",
    "aq.enqueue(0, \"eee\")\n",
    "aq.enqueue(1, \"fff\")\n",
    "aq.enqueue(1, \"ggg\")\n",
    "for _ in range(8):\n",
    "    a = aq.dequeueAny()\n",
    "    if(a != None):\n",
    "        print(a.name, \" \", a.order)"
   ]
  },
  {
   "cell_type": "code",
   "execution_count": 11,
   "metadata": {},
   "outputs": [
    {
     "name": "stdout",
     "output_type": "stream",
     "text": [
      "aaa   0\n",
      "ddd   3\n",
      "fff   5\n",
      "ggg   6\n",
      "Dogs is Empty\n"
     ]
    }
   ],
   "source": [
    "aq = AnimalQueue()\n",
    "aq.enqueue(1, \"aaa\")\n",
    "aq.enqueue(0, \"bbb\")\n",
    "aq.enqueue(0, \"ccc\")\n",
    "aq.enqueue(1, \"ddd\")\n",
    "aq.enqueue(0, \"eee\")\n",
    "aq.enqueue(1, \"fff\")\n",
    "aq.enqueue(1, \"ggg\")\n",
    "for _ in range(5):\n",
    "    a = aq.dequeueDog()\n",
    "    if(a != None):\n",
    "        print(a.name, \" \", a.order)"
   ]
  },
  {
   "cell_type": "code",
   "execution_count": null,
   "metadata": {},
   "outputs": [],
   "source": []
  }
 ],
 "metadata": {
  "kernelspec": {
   "display_name": "Python 3",
   "language": "python",
   "name": "python3"
  },
  "language_info": {
   "codemirror_mode": {
    "name": "ipython",
    "version": 3
   },
   "file_extension": ".py",
   "mimetype": "text/x-python",
   "name": "python",
   "nbconvert_exporter": "python",
   "pygments_lexer": "ipython3",
   "version": "3.6.8"
  }
 },
 "nbformat": 4,
 "nbformat_minor": 2
}
