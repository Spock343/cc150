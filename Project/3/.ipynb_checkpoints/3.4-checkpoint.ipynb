{
 "cells": [
  {
   "cell_type": "raw",
   "metadata": {},
   "source": [
    "在经典问题汉诺塔中，有3根柱子及N个不同大小的穿孔圆盘，盘子可以滑入任意一根柱子。一开始，所有盘子自底向上从大到小一次套在第一根柱子上(即每一个盘子只能放在更大的盘子上面)。移动圆盘时有以下限制:\n",
    "(1)每次只能移动一个盘子;\n",
    "(2)盘子只能从柱子顶端滑出移到下一根柱子;\n",
    "(3)盘子只能叠在比它大的盘子上。\n",
    "请运用栈，编写程序将所有盘子从第一根柱子移到最后一根柱子"
   ]
  },
  {
   "cell_type": "code",
   "execution_count": 1,
   "metadata": {},
   "outputs": [],
   "source": [
    "from Stack import *"
   ]
  },
  {
   "cell_type": "code",
   "execution_count": 16,
   "metadata": {},
   "outputs": [],
   "source": [
    "def moveDisks(towers, origin, target, helper, n):\n",
    "    if(n == 0):\n",
    "        return\n",
    "    moveDisks(towers, origin, helper, target, n - 1)\n",
    "    value = towers[origin].pop()\n",
    "    towers[target].push(value)\n",
    "    print(\"move disk from \", origin, \" to \", target)\n",
    "    moveDisks(towers, helper, target, origin, n - 1)"
   ]
  },
  {
   "cell_type": "code",
   "execution_count": 17,
   "metadata": {},
   "outputs": [],
   "source": [
    "def hanota(n):\n",
    "    towers = [Stack(n)] * 3\n",
    "    for i in range(n - 1, -1, -1):\n",
    "        towers[0].push(i)\n",
    "    moveDisks(towers, 0, 2, 1, n)\n",
    "    # 检验\n",
    "    for i in range(n):\n",
    "        print(towers[2].pop())"
   ]
  },
  {
   "cell_type": "code",
   "execution_count": 18,
   "metadata": {},
   "outputs": [
    {
     "name": "stdout",
     "output_type": "stream",
     "text": [
      "move disk from  0  to  2\n",
      "move disk from  0  to  1\n",
      "move disk from  2  to  1\n",
      "move disk from  0  to  2\n",
      "move disk from  1  to  0\n",
      "move disk from  1  to  2\n",
      "move disk from  0  to  2\n",
      "0\n",
      "1\n",
      "2\n"
     ]
    }
   ],
   "source": [
    "hanota(3)"
   ]
  },
  {
   "cell_type": "code",
   "execution_count": null,
   "metadata": {},
   "outputs": [],
   "source": []
  }
 ],
 "metadata": {
  "kernelspec": {
   "display_name": "Python 3",
   "language": "python",
   "name": "python3"
  },
  "language_info": {
   "codemirror_mode": {
    "name": "ipython",
    "version": 3
   },
   "file_extension": ".py",
   "mimetype": "text/x-python",
   "name": "python",
   "nbconvert_exporter": "python",
   "pygments_lexer": "ipython3",
   "version": "3.6.8"
  }
 },
 "nbformat": 4,
 "nbformat_minor": 2
}
