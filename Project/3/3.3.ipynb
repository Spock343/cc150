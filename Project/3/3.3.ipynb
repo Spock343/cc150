{
 "cells": [
  {
   "cell_type": "raw",
   "metadata": {},
   "source": [
    "设想有一堆盘子，堆太高可能会倒下来，因此，在现实生活中，盘子堆到一定高度时，我们就会另外堆一堆盘子。请实现数据结构SetOfStacks，模拟这种行为。SetOfStacks应该由多个栈组成，并且在前一个栈填满时新建一个栈。此外，SetOfStacks.push()和SetOfStacks.pop()应该与普通栈的操作方法相同(也就是说，pop()返回的值，应该跟只有一个栈是的情况一样)。\n",
    "进阶：实现一个popAt(index)方法，根据指定的子栈，执行pop操作。"
   ]
  },
  {
   "cell_type": "code",
   "execution_count": 1,
   "metadata": {},
   "outputs": [],
   "source": [
    "from Stack import Stack"
   ]
  },
  {
   "cell_type": "code",
   "execution_count": null,
   "metadata": {},
   "outputs": [],
   "source": [
    "class SetOfStacks:\n",
    "    def __init__(self, capacity):\n",
    "        self.stacks = []\n",
    "        self.capacity = capacity\n",
    "        \n",
    "    def push(self, value):\n",
    "        \n",
    "    def pop(self):\n",
    "        \n",
    "    def popAt(self, index):\n",
    "        \n",
    "    \n",
    "    # 省略peek，isempty方法"
   ]
  }
 ],
 "metadata": {
  "kernelspec": {
   "display_name": "Python 3",
   "language": "python",
   "name": "python3"
  },
  "language_info": {
   "codemirror_mode": {
    "name": "ipython",
    "version": 3
   },
   "file_extension": ".py",
   "mimetype": "text/x-python",
   "name": "python",
   "nbconvert_exporter": "python",
   "pygments_lexer": "ipython3",
   "version": "3.6.8"
  }
 },
 "nbformat": 4,
 "nbformat_minor": 2
}
