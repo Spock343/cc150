{
 "cells": [
  {
   "cell_type": "raw",
   "metadata": {},
   "source": [
    "设想有一堆盘子，堆太高可能会倒下来，因此，在现实生活中，盘子堆到一定高度时，我们就会另外堆一堆盘子。请实现数据结构SetOfStacks，模拟这种行为。SetOfStacks应该由多个栈组成，并且在前一个栈填满时新建一个栈。此外，SetOfStacks.push()和SetOfStacks.pop()应该与普通栈的操作方法相同(也就是说，pop()返回的值，应该跟只有一个栈是的情况一样)。\n",
    "进阶：实现一个popAt(index)方法，根据指定的子栈，执行pop操作。"
   ]
  },
  {
   "cell_type": "code",
   "execution_count": 1,
   "metadata": {},
   "outputs": [],
   "source": [
    "from Stack import *"
   ]
  },
  {
   "cell_type": "code",
   "execution_count": 4,
   "metadata": {},
   "outputs": [],
   "source": [
    "class SetOfStacks:\n",
    "    def __init__(self, capacity):\n",
    "        self.stacks = []\n",
    "        self.stacks.append(Stack(capacity))\n",
    "        self.capacity = capacity\n",
    "        \n",
    "    def push(self, value):\n",
    "        if(self.stacks[-1].pointer + 1 >= self.capacity):\n",
    "            self.stacks.append(Stack(self.capacity))\n",
    "        self.stacks[-1].push(value)\n",
    "        \n",
    "    def pop(self):\n",
    "        if(self.stacks[0].isEmpty()):\n",
    "            print(\"Stack is empty\")\n",
    "            return\n",
    "        if(self.stacks[-1].isEmpty()):\n",
    "            del(self.stacks[-1])\n",
    "        value = self.stacks[-1].pop()\n",
    "        return value\n",
    "        \n",
    "    def popAt(self, index):\n",
    "        if(index >= len(self.stacks) or index < 0):\n",
    "            return\n",
    "            print(\"Out of index\")\n",
    "        return self.stacks[index].pop()\n",
    "    \n",
    "    # 省略peek，isempty方法"
   ]
  },
  {
   "cell_type": "code",
   "execution_count": 7,
   "metadata": {},
   "outputs": [
    {
     "name": "stdout",
     "output_type": "stream",
     "text": [
      "9\n",
      "6\n",
      "5\n",
      "3\n",
      "10\n",
      "8\n",
      "7\n",
      "4\n",
      "2\n",
      "1\n",
      "Stack is empty\n",
      "None\n"
     ]
    }
   ],
   "source": [
    "S = SetOfStacks(3)\n",
    "S.push(1)\n",
    "S.push(2)\n",
    "S.push(3)\n",
    "S.push(4)\n",
    "S.push(5)\n",
    "S.push(6)\n",
    "S.push(7)\n",
    "S.push(8)\n",
    "S.push(9)\n",
    "S.push(10)\n",
    "print(S.popAt(2))\n",
    "print(S.popAt(1))\n",
    "print(S.popAt(1))\n",
    "print(S.popAt(0))\n",
    "for _ in range(7):\n",
    "    print(S.pop())"
   ]
  },
  {
   "cell_type": "code",
   "execution_count": null,
   "metadata": {},
   "outputs": [],
   "source": []
  }
 ],
 "metadata": {
  "kernelspec": {
   "display_name": "Python 3",
   "language": "python",
   "name": "python3"
  },
  "language_info": {
   "codemirror_mode": {
    "name": "ipython",
    "version": 3
   },
   "file_extension": ".py",
   "mimetype": "text/x-python",
   "name": "python",
   "nbconvert_exporter": "python",
   "pygments_lexer": "ipython3",
   "version": "3.6.8"
  }
 },
 "nbformat": 4,
 "nbformat_minor": 2
}
