{
 "cells": [
  {
   "cell_type": "raw",
   "metadata": {},
   "source": [
    "实现一个MyQueue类，该类用两个栈来实现一个队列。"
   ]
  },
  {
   "cell_type": "code",
   "execution_count": 1,
   "metadata": {},
   "outputs": [],
   "source": [
    "from Stack import *"
   ]
  },
  {
   "cell_type": "code",
   "execution_count": 4,
   "metadata": {},
   "outputs": [],
   "source": [
    "class MyQueue:\n",
    "    def __init__(self):\n",
    "        self.stack1 = Stack2()\n",
    "        self.stack2 = Stack2()\n",
    "        \n",
    "    def push(self, value):\n",
    "        self.stack1.push(value)\n",
    "    \n",
    "    def front(self):\n",
    "        if(self.stack2.isEmpty()):\n",
    "            while(not self.stack1.isEmpty()):\n",
    "                v = self.stack1.pop()\n",
    "                self.stack2.push(v)\n",
    "        if(self.stack2.isEmpty()):\n",
    "            print(\"Queue is empty\")\n",
    "            return\n",
    "        return self.stack2.pop()\n",
    "        \n",
    "    def peek(self):\n",
    "        if(self.stack2.isEmpty()):\n",
    "            while(not self.stack1.isEmpty()):\n",
    "                v = self.stack1.pop()\n",
    "                self.stack2.push(v)\n",
    "        if(self.stack2.isEmpty()):\n",
    "            print(\"Queue is empty\")\n",
    "            return\n",
    "        return self.stack2.peek()"
   ]
  },
  {
   "cell_type": "code",
   "execution_count": 5,
   "metadata": {},
   "outputs": [
    {
     "name": "stdout",
     "output_type": "stream",
     "text": [
      "1\n",
      "2\n",
      "3\n",
      "4\n",
      "5\n",
      "Queue is empty\n",
      "None\n"
     ]
    }
   ],
   "source": [
    "queue = MyQueue()\n",
    "queue.push(1)\n",
    "queue.push(2)\n",
    "print(queue.front())\n",
    "queue.push(3)\n",
    "queue.push(4)\n",
    "queue.push(5)\n",
    "for _ in range(5):\n",
    "    print(queue.front())"
   ]
  },
  {
   "cell_type": "code",
   "execution_count": null,
   "metadata": {},
   "outputs": [],
   "source": []
  }
 ],
 "metadata": {
  "kernelspec": {
   "display_name": "Python 3",
   "language": "python",
   "name": "python3"
  },
  "language_info": {
   "codemirror_mode": {
    "name": "ipython",
    "version": 3
   },
   "file_extension": ".py",
   "mimetype": "text/x-python",
   "name": "python",
   "nbconvert_exporter": "python",
   "pygments_lexer": "ipython3",
   "version": "3.6.8"
  }
 },
 "nbformat": 4,
 "nbformat_minor": 2
}
