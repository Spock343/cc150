{
 "cells": [
  {
   "cell_type": "raw",
   "metadata": {},
   "source": [
    "给定两个字符串，请编写程序，确定其中一个字符串的字符重新排列后，能否变成另一个字符串"
   ]
  },
  {
   "cell_type": "code",
   "execution_count": 5,
   "metadata": {},
   "outputs": [],
   "source": [
    "def permutation(str1, str2):\n",
    "    if(len(str1) != len(str2)):\n",
    "        return False\n",
    "    \n",
    "    count = [0 for _ in range(256)]\n",
    "    for i in range(len(str1)):\n",
    "        count[ord(str1[i])] += 1\n",
    "        count[ord(str2[i])] -= 1\n",
    "        \n",
    "    for i in range(len(count)):\n",
    "        if(count[i] != 0):\n",
    "            return False\n",
    "        \n",
    "    return True"
   ]
  },
  {
   "cell_type": "code",
   "execution_count": 6,
   "metadata": {},
   "outputs": [
    {
     "name": "stdout",
     "output_type": "stream",
     "text": [
      "False\n"
     ]
    }
   ],
   "source": [
    "str1 = \"asdfghjd\"\n",
    "str2 = \"asdfghja\"\n",
    "print(permutation(str1, str2))"
   ]
  },
  {
   "cell_type": "code",
   "execution_count": 7,
   "metadata": {},
   "outputs": [
    {
     "name": "stdout",
     "output_type": "stream",
     "text": [
      "True\n"
     ]
    }
   ],
   "source": [
    "str1 = \"asdqweoiujklsdkj\"\n",
    "str2 = \"dsadsjklkjweqiou\"\n",
    "print(permutation(str1, str2))"
   ]
  },
  {
   "cell_type": "code",
   "execution_count": null,
   "metadata": {},
   "outputs": [],
   "source": []
  }
 ],
 "metadata": {
  "kernelspec": {
   "display_name": "Python 3",
   "language": "python",
   "name": "python3"
  },
  "language_info": {
   "codemirror_mode": {
    "name": "ipython",
    "version": 3
   },
   "file_extension": ".py",
   "mimetype": "text/x-python",
   "name": "python",
   "nbconvert_exporter": "python",
   "pygments_lexer": "ipython3",
   "version": "3.6.2"
  }
 },
 "nbformat": 4,
 "nbformat_minor": 2
}
