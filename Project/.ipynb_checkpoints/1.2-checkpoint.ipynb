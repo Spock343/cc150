{
 "cells": [
  {
   "cell_type": "raw",
   "metadata": {},
   "source": [
    "用C或C++反转一个null结尾的字符串\n",
    "因为这里是python，则假定不用len函数模拟C或C++"
   ]
  },
  {
   "cell_type": "code",
   "execution_count": 6,
   "metadata": {},
   "outputs": [],
   "source": [
    "def reverse(string):\n",
    "    k = 0\n",
    "    while(string[k] != None):\n",
    "        k += 1\n",
    "    i = 0\n",
    "    j = k - 1\n",
    "    while(i < j):\n",
    "        tmp = string[i]\n",
    "        string[i] = string[j]\n",
    "        string[j] = tmp\n",
    "        i += 1\n",
    "        j -= 1\n",
    "    return string"
   ]
  },
  {
   "cell_type": "code",
   "execution_count": 7,
   "metadata": {},
   "outputs": [
    {
     "name": "stdout",
     "output_type": "stream",
     "text": [
      "['f', 'w', 'f', 'e', 'a', 'w', 'a', 'd', 'v', 'f', 'e', None]\n"
     ]
    }
   ],
   "source": [
    "string = list(\"efvdawaefwf\")\n",
    "string.append(None)\n",
    "res = reverse(string)\n",
    "print(res)"
   ]
  },
  {
   "cell_type": "code",
   "execution_count": null,
   "metadata": {},
   "outputs": [],
   "source": []
  }
 ],
 "metadata": {
  "kernelspec": {
   "display_name": "Python 3",
   "language": "python",
   "name": "python3"
  },
  "language_info": {
   "codemirror_mode": {
    "name": "ipython",
    "version": 3
   },
   "file_extension": ".py",
   "mimetype": "text/x-python",
   "name": "python",
   "nbconvert_exporter": "python",
   "pygments_lexer": "ipython3",
   "version": "3.6.2"
  }
 },
 "nbformat": 4,
 "nbformat_minor": 2
}
